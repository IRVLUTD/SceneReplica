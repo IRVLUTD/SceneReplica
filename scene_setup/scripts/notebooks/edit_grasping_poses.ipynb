{
 "cells": [
  {
   "cell_type": "code",
   "execution_count": null,
   "id": "36b34c0c",
   "metadata": {},
   "outputs": [],
   "source": [
    "import rospy \n",
    "import rospkg \n",
    "import sys \n",
    "import os\n",
    "import json\n",
    "import numpy as np\n",
    "from transforms3d.quaternions import mat2quat, quat2mat\n",
    "\n",
    "#st_path = rospkg.RosPack().get_path(\"scene_setup\")\n",
    "data_dir = \"/home/felipe/Documents/isaac_sim_grasping/grasps/grasps_midopen\"\n",
    "print(data_dir)\n",
    "#out_dir = os.path.join(st_path, \"datasets/benchmarking/grasp_data/midopen\")\n",
    "out_dir = \"/home/felipe/Documents/isaac_sim_grasping/grasps\"\n",
    "if not os.path.exists(out_dir):\n",
    "    os.makedirs(out_dir, exist_ok=True)\n",
    "print(out_dir)"
   ]
  },
  {
   "cell_type": "code",
   "execution_count": null,
   "id": "dfae723e",
   "metadata": {},
   "outputs": [],
   "source": [
    "json_files = [pos_json for pos_json in os.listdir(data_dir) if pos_json.endswith('.json')]\n",
    "\n",
    "print(json_files)\n",
    "\n",
    "def isaac_qt_to_rt(qt, trans):\n",
    "    obj_T = np.eye(4)\n",
    "    obj_T[:3, :3] = quat2mat(qt)\n",
    "    obj_T[:3, 3] = trans\n",
    "\n",
    "    return obj_T"
   ]
  },
  {
   "cell_type": "code",
   "execution_count": null,
   "id": "ee80c703",
   "metadata": {},
   "outputs": [],
   "source": [
    "dofs = None\n",
    "\n",
    "for j in json_files:\n",
    "    grasps_path = os.path.join(data_dir,j)\n",
    "    print(j)\n",
    "    with open(grasps_path) as fd:\n",
    "        data = json.load(fd)\n",
    "       \n",
    "    n = len(data[\"pose\"])\n",
    "    print(data[\"dofs\"][0])\n",
    "    \n",
    "    for i in range(n):\n",
    "        \n",
    "        pose = data[\"pose\"][i]\n",
    "        dofs = data[\"dofs\"][i]\n",
    "        rot = pose[3:]\n",
    "        trans = pose[:3]\n",
    "        #print(pose)\n",
    "        # NOTE: here qt is in isaac format\n",
    "        RT = isaac_qt_to_rt(rot, trans)\n",
    "        \n",
    "        T = np.eye(4)\n",
    "        #T[0,3] = 0.19645 #finger_tip_link offset\n",
    "        T[1,3] = (dofs[1]-dofs[0])/2 # Center Fingers offset\n",
    "        \n",
    "        new_RT = np.matmul(RT,T)\n",
    "        \n",
    "        quat = mat2quat(new_RT[:3,:3])\n",
    "\n",
    "        trans = new_RT[:3, 3]\n",
    "\n",
    "        pose = np.concatenate((trans,quat))\n",
    "        \n",
    "        #print(pose)\n",
    "        \n",
    "        data[\"pose\"][i] = pose.tolist()\n",
    "        print(dofs)\n",
    "\n",
    "    \n",
    "    output_path = os.path.join(out_dir,j)\n",
    "    with open(output_path,'w') as outfile:\n",
    "        #json.dump(data,outfile)\n",
    "        pass\n",
    "    \n",
    "        \n",
    "    "
   ]
  },
  {
   "cell_type": "code",
   "execution_count": null,
   "id": "858faccc",
   "metadata": {},
   "outputs": [],
   "source": [
    "print(dofs[1])"
   ]
  },
  {
   "cell_type": "code",
   "execution_count": null,
   "id": "f810a58e",
   "metadata": {},
   "outputs": [],
   "source": []
  }
 ],
 "metadata": {
  "kernelspec": {
   "display_name": "Python 3 (ipykernel)",
   "language": "python",
   "name": "python3"
  },
  "language_info": {
   "codemirror_mode": {
    "name": "ipython",
    "version": 3
   },
   "file_extension": ".py",
   "mimetype": "text/x-python",
   "name": "python",
   "nbconvert_exporter": "python",
   "pygments_lexer": "ipython3",
   "version": "3.8.10"
  }
 },
 "nbformat": 4,
 "nbformat_minor": 5
}
